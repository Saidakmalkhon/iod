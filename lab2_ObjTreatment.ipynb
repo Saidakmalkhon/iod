{
 "cells": [
  {
   "cell_type": "code",
   "execution_count": null,
   "metadata": {},
   "outputs": [],
   "source": [
    "import cv2   # \n",
    "\n",
    "first_frame = None # начальный кадр\n",
    "video = cv2.VideoCapture(0) # видеопоток\n",
    "fgbg = cv2.createBackgroundSubtractorMOG2() # вычитание движущихся объектов из серого фона\n",
    "\n",
    "while True:\n",
    "\n",
    "    _, frame = video.read() # будем сравнивать начальный кадр с последующими\n",
    "    gray = cv2.cvtColor(frame, cv2.COLOR_BGR2GRAY)\n",
    "    gray = cv2.GaussianBlur(gray, (5, 5), 0)\n",
    "    \n",
    "    fgmask = fgbg.apply(frame) # накладывание маски\n",
    "    fgmask = cv2.Canny(fgmask, 1,1)\n",
    "\n",
    "    if first_frame is None:   \n",
    "        first_frame = gray\n",
    "        continue\n",
    "\n",
    "    delta_frame = cv2.absdiff(first_frame, gray)  \n",
    "    th_delta = cv2.threshold(delta_frame, 30, 255, cv2.THRESH_BINARY)[1]\n",
    "    th_delta = cv2.dilate(th_delta, None , iterations=1)\n",
    "    \n",
    "    cnts, _ = cv2.findContours(th_delta.copy(), cv2.RETR_EXTERNAL, cv2.CHAIN_APPROX_SIMPLE)    # поиск контуров движ объектов\n",
    "    \n",
    "    text = 'Object'    # оформление рамки\n",
    "    font = cv2.FONT_HERSHEY_SIMPLEX\n",
    "    scale = 1\n",
    "    color = (0, 255, 0)\n",
    "    thickness = 1\n",
    "    \n",
    "    for contour in cnts:   # цикл по контурам\n",
    "        if cv2.contourArea(contour) < 1000 :\n",
    "            continue\n",
    "        (x,y,w,h) = cv2.boundingRect(contour)    # рамка\n",
    "        position = (x, y)\n",
    "        cv2.putText(frame, text, position, font, scale, color, thickness, cv2.LINE_AA)\n",
    "        cv2.rectangle(frame, (x, y), (x + w, y + h), (0, 255, 0), 2)\n",
    "        cv2.fillPoly(frame, pts=cnts, color=cv2.mean(frame,fgmask))    # заполнение цветом (среднее значение цвета всего кадра и маски)\n",
    "        cv2.drawContours(frame, contour, -1, (52, 116, 172), 3)\n",
    "   \n",
    "    cv2.imshow('Capturing', frame)\n",
    "    if cv2.waitKey(1) & 0xFF == 27:    # стоп цикл\n",
    "        break\n",
    "\n",
    "video.release()    # освобождение видеопотока\n",
    "cv2.destroyAllWindows()\n"
   ]
  }
 ],
 "metadata": {
  "kernelspec": {
   "display_name": "Python 3",
   "language": "python",
   "name": "python3"
  },
  "language_info": {
   "codemirror_mode": {
    "name": "ipython",
    "version": 3
   },
   "file_extension": ".py",
   "mimetype": "text/x-python",
   "name": "python",
   "nbconvert_exporter": "python",
   "pygments_lexer": "ipython3",
   "version": "3.6.10"
  }
 },
 "nbformat": 4,
 "nbformat_minor": 4
}
